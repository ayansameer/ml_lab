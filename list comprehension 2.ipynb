{
  "nbformat": 4,
  "nbformat_minor": 0,
  "metadata": {
    "colab": {
      "name": "Untitled1.ipynb",
      "provenance": []
    },
    "kernelspec": {
      "name": "python3",
      "display_name": "Python 3"
    },
    "language_info": {
      "name": "python"
    }
  },
  "cells": [
    {
      "cell_type": "code",
      "execution_count": 18,
      "metadata": {
        "colab": {
          "base_uri": "https://localhost:8080/"
        },
        "id": "Hg9r1ulsPrHt",
        "outputId": "ea2a5383-8191-4235-e918-7acc8a026606"
      },
      "outputs": [
        {
          "output_type": "execute_result",
          "data": {
            "text/plain": [
              "[(0, 'hi'), (1, 1), (2, 29), (3, 3), (4, 4), (5, (0.1, 'hi'))]"
            ]
          },
          "metadata": {},
          "execution_count": 18
        }
      ],
      "source": [
        "#get the index and value at the tuple for items in the list.\n",
        "items=['hi',1,29,3,4,(0.1,'hi')]\n",
        "[(index,value) for index,value in enumerate (items)]"
      ]
    },
    {
      "cell_type": "code",
      "source": [
        "#find the common numbers in the list using list comprehension.\n",
        "l1=[1,2,3,4,5,6]\n",
        "l2=[3,4,5,6,7,8,9]\n",
        "[i for i in l1 for j in l2 if i==j]"
      ],
      "metadata": {
        "colab": {
          "base_uri": "https://localhost:8080/"
        },
        "id": "E0QC6-5XQvcq",
        "outputId": "e0d9171d-f04d-453e-ed4a-50cc283e364a"
      },
      "execution_count": 20,
      "outputs": [
        {
          "output_type": "execute_result",
          "data": {
            "text/plain": [
              "[3, 4, 5, 6]"
            ]
          },
          "metadata": {},
          "execution_count": 20
        }
      ]
    },
    {
      "cell_type": "code",
      "source": [
        "#s= \"I love my mom \" count number of letter.\n",
        "s=\"I love my mom \"\n",
        "l1=[i for i in s if i!=' ']\n",
        "print (len(l1))"
      ],
      "metadata": {
        "colab": {
          "base_uri": "https://localhost:8080/"
        },
        "id": "-23EglpGQvLy",
        "outputId": "f450346e-a18c-4811-8c1a-2deeed2bd1f3"
      },
      "execution_count": 8,
      "outputs": [
        {
          "output_type": "stream",
          "name": "stdout",
          "text": [
            "10\n"
          ]
        }
      ]
    },
    {
      "cell_type": "code",
      "source": [
        "#s= \"I love my mom \" count number of words.\n",
        "s=\"I love my mom \"\n",
        "l=[ i for i in s.split()]\n",
        "len(l)"
      ],
      "metadata": {
        "colab": {
          "base_uri": "https://localhost:8080/"
        },
        "id": "x6KD7sOdRasB",
        "outputId": "642a805c-a0e9-4889-e11f-537b42257e37"
      },
      "execution_count": 26,
      "outputs": [
        {
          "output_type": "execute_result",
          "data": {
            "text/plain": [
              "4"
            ]
          },
          "metadata": {},
          "execution_count": 26
        }
      ]
    },
    {
      "cell_type": "code",
      "source": [
        "(#s=\"This is CSIT 1984 60\" Count the no. of words which are not alpha numeric.\n",
        "s=\"This is CSIT 1984 60\"\n",
        "i= s.split()\n",
        "[j for j in i if not j.isalpha()]"
      ],
      "metadata": {
        "colab": {
          "base_uri": "https://localhost:8080/"
        },
        "id": "qGSGYgWmRXuX",
        "outputId": "dd3498af-e313-4d3f-d9e0-a155e70c43ae"
      },
      "execution_count": 5,
      "outputs": [
        {
          "output_type": "execute_result",
          "data": {
            "text/plain": [
              "['1984', '60']"
            ]
          },
          "metadata": {},
          "execution_count": 5
        }
      ]
    },
    {
      "cell_type": "code",
      "source": [
        "#s=\"This is CSIT 1984 60\" count the \n",
        "s=\"This is CSIT 1984 60\"\n",
        "[j for j in s.split() if  j.isalpha() and len(j)>=4]"
      ],
      "metadata": {
        "colab": {
          "base_uri": "https://localhost:8080/"
        },
        "id": "qcGY6Z06Si5O",
        "outputId": "7d50ed06-051d-4093-b75b-1d8b881b08ca"
      },
      "execution_count": 7,
      "outputs": [
        {
          "output_type": "execute_result",
          "data": {
            "text/plain": [
              "['This', 'CSIT']"
            ]
          },
          "metadata": {},
          "execution_count": 7
        }
      ]
    },
    {
      "cell_type": "code",
      "source": [
        "#use a nested list comprehension to find all the no. in the range 1-100 that are divisible by any no. 2-9\n",
        "\n",
        "[i for i in range(1,101) if True in [True for j in range(2,10) if i % j == 0]]"
      ],
      "metadata": {
        "colab": {
          "base_uri": "https://localhost:8080/"
        },
        "id": "Sw6UNKDrTkXD",
        "outputId": "d12db012-e5b8-4b1a-e8d9-e8a4596b2f75"
      },
      "execution_count": 17,
      "outputs": [
        {
          "output_type": "execute_result",
          "data": {
            "text/plain": [
              "[2,\n",
              " 3,\n",
              " 4,\n",
              " 5,\n",
              " 6,\n",
              " 7,\n",
              " 8,\n",
              " 9,\n",
              " 10,\n",
              " 12,\n",
              " 14,\n",
              " 15,\n",
              " 16,\n",
              " 18,\n",
              " 20,\n",
              " 21,\n",
              " 22,\n",
              " 24,\n",
              " 25,\n",
              " 26,\n",
              " 27,\n",
              " 28,\n",
              " 30,\n",
              " 32,\n",
              " 33,\n",
              " 34,\n",
              " 35,\n",
              " 36,\n",
              " 38,\n",
              " 39,\n",
              " 40,\n",
              " 42,\n",
              " 44,\n",
              " 45,\n",
              " 46,\n",
              " 48,\n",
              " 49,\n",
              " 50,\n",
              " 51,\n",
              " 52,\n",
              " 54,\n",
              " 55,\n",
              " 56,\n",
              " 57,\n",
              " 58,\n",
              " 60,\n",
              " 62,\n",
              " 63,\n",
              " 64,\n",
              " 65,\n",
              " 66,\n",
              " 68,\n",
              " 69,\n",
              " 70,\n",
              " 72,\n",
              " 74,\n",
              " 75,\n",
              " 76,\n",
              " 77,\n",
              " 78,\n",
              " 80,\n",
              " 81,\n",
              " 82,\n",
              " 84,\n",
              " 85,\n",
              " 86,\n",
              " 87,\n",
              " 88,\n",
              " 90,\n",
              " 91,\n",
              " 92,\n",
              " 93,\n",
              " 94,\n",
              " 95,\n",
              " 96,\n",
              " 98,\n",
              " 99,\n",
              " 100]"
            ]
          },
          "metadata": {},
          "execution_count": 17
        }
      ]
    },
    {
      "cell_type": "code",
      "source": [
        ""
      ],
      "metadata": {
        "id": "MIEta9XrU_Sl"
      },
      "execution_count": null,
      "outputs": []
    }
  ]
}